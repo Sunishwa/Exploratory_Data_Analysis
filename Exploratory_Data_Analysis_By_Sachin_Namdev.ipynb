{
  "nbformat": 4,
  "nbformat_minor": 0,
  "metadata": {
    "colab": {
      "private_outputs": true,
      "provenance": [],
      "collapsed_sections": [
        "vncDsAP0Gaoa",
        "FJNUwmbgGyua",
        "w6K7xa23Elo4",
        "yQaldy8SH6Dl",
        "mDgbUHAGgjLW",
        "gIfDvo9L0UH2"
      ],
      "include_colab_link": true
    },
    "kernelspec": {
      "name": "python3",
      "display_name": "Python 3"
    },
    "language_info": {
      "name": "python"
    }
  },
  "cells": [
    {
      "cell_type": "markdown",
      "metadata": {
        "id": "view-in-github",
        "colab_type": "text"
      },
      "source": [
        "<a href=\"https://colab.research.google.com/github/Sunishwa/Exploratory_Data_Analysis/blob/main/Exploratory_Data_Analysis_By_Sachin_Namdev.ipynb\" target=\"_parent\"><img src=\"https://colab.research.google.com/assets/colab-badge.svg\" alt=\"Open In Colab\"/></a>"
      ]
    },
    {
      "cell_type": "markdown",
      "source": [
        "# **Project Name**    -\n",
        "\n"
      ],
      "metadata": {
        "id": "vncDsAP0Gaoa"
      }
    },
    {
      "cell_type": "markdown",
      "source": [
        "##### **Project Type**    - EDA/Regression/Classification/Unsupervised\n",
        "##### **Contribution**    - Individual\n",
        "##### **Name**            - Sachin Namdev"
      ],
      "metadata": {
        "id": "beRrZCGUAJYm"
      }
    },
    {
      "cell_type": "markdown",
      "source": [
        "# **Project Summary -**"
      ],
      "metadata": {
        "id": "FJNUwmbgGyua"
      }
    },
    {
      "cell_type": "markdown",
      "source": [
        "Airbnb, Inc. is an American San Francisco-based company operating an online marketplace for short- and long-term homestays and experiences. The company acts as a broker and charges a commission from each booking. The company was founded in 2008 by Brian Chesky, Nathan Blecharczyk, and Joe Gebbia. Airbnb is a shortened version of its original name, AirBedandBreakfast.com. The company is credited with revolutionizing the tourism industry, while also having been the subject of intense criticism by residents of tourism hotspot cities like Barcelona and Venice for enabling an unaffordable increase in home rents, and for a lack of regulation.\n",
        "\n",
        "Since 2008, guests and hosts have used Airbnb to expand on traveling possibilities and present a more unique, personalized way of experiencing the world. Today, Airbnb became one of a kind service that is used and recognized by the whole world. Data analysis on millions of listings provided through Airbnb is a crucial factor for the company. These millions of listings generate a lot of data - data that can be analyzed and used for security, business decisions, understanding of customers' and providers' (hosts) behavior and performance on the platform, guiding marketing initiatives, implementation of innovative additional services and much more."
      ],
      "metadata": {
        "id": "0vBVnZSuHRID"
      }
    },
    {
      "cell_type": "markdown",
      "source": [
        "# **GitHub Link -**"
      ],
      "metadata": {
        "id": "w6K7xa23Elo4"
      }
    },
    {
      "cell_type": "markdown",
      "source": [
        "Provide your GitHub Link here."
      ],
      "metadata": {
        "id": "h1o69JH3Eqqn"
      }
    },
    {
      "cell_type": "markdown",
      "source": [
        "# **Problem Statement**\n"
      ],
      "metadata": {
        "id": "yQaldy8SH6Dl"
      }
    },
    {
      "cell_type": "markdown",
      "source": [
        "We are Going to explore our dataset and tries to find out some of the below listed queries\n",
        "1. How many columns are there in the dataset?\n",
        "\n",
        "2. What are the datatypes of those columns?\n",
        "\n",
        "3. How many data-points contain some null values? i.e. missing values\n",
        "\n",
        "4. How to replace these missing values?\n",
        "5. Where all availabilty we found and that's for ehoch neighbourhood group?\n",
        "6. Which are the top neighbourhood groups that reviewed most?\n",
        "7. Which stay has the highest price amoung the all?\n",
        "8. Where most of the host focused tpo own propriety."
      ],
      "metadata": {
        "id": "DpeJGUA3kjGy"
      }
    },
    {
      "cell_type": "markdown",
      "source": [
        "#### **Define Your Business Objective?**"
      ],
      "metadata": {
        "id": "PH-0ReGfmX4f"
      }
    },
    {
      "cell_type": "markdown",
      "source": [
        "Before discussing my Business objective let's understand how much these terminologies matter's not for me but for all so Business objectives are the specific, measurable results that companies hope to maintain as their organisation grows. When you create a set of business objectives, you focus on specifics. This means analysing, assessing, and understanding where you are now and where you want to be in the future, these five aspect matters alot as being a part of any organisation it's very import to analyse that what is the need of organisation to grow and access them to make that analyse true.\n",
        "\n",
        "Now if we talk about my business objective, I can say that business always comes from service, how you are giving service to your clients will affect the business. If yow are such a person that you have no query pending in your tray, I am sure that if there is a need of any such thing that you are working for the client always remember your name or may be possible that for such a relative think you must receive a call. And to create such a impactful scenerio there must need need of analysing the problem and accessing them at the earliest as possible. And yes i want to grow myself at such a level that create a success story fo both me and my organisation.\n",
        "\n",
        "Also if take into consideration of our EDA project i.e. Airbnb so if I'll be the part of this my objective is to create a world where anyone can belong anywhere, and it reflects the company's commitment to providing an end-to-end travel platform that handles every aspect of a customer's trip."
      ],
      "metadata": {
        "id": "PhDvGCAqmjP1"
      }
    },
    {
      "cell_type": "markdown",
      "source": [
        "# **General Guidelines** : -  "
      ],
      "metadata": {
        "id": "mDgbUHAGgjLW"
      }
    },
    {
      "cell_type": "markdown",
      "source": [
        "1.   Well-structured, formatted, and commented code is required.\n",
        "2.   Exception Handling, Production Grade Code & Deployment Ready Code will be a plus. Those students will be awarded some additional credits.\n",
        "     \n",
        "     The additional credits will have advantages over other students during Star Student selection.\n",
        "       \n",
        "             [ Note: - Deployment Ready Code is defined as, the whole .ipynb notebook should be executable in one go\n",
        "                       without a single error logged. ]\n",
        "\n",
        "3.   Each and every logic should have proper comments.\n",
        "4. You may add as many number of charts you want. Make Sure for each and every chart the following format should be answered.\n",
        "        \n",
        "\n",
        "```\n",
        "# Chart visualization code\n",
        "```\n",
        "            \n",
        "\n",
        "*   Why did you pick the specific chart?\n",
        "*   What is/are the insight(s) found from the chart?\n",
        "* Will the gained insights help creating a positive business impact?\n",
        "Are there any insights that lead to negative growth? Justify with specific reason.\n",
        "\n",
        "5. You have to create at least 20 logical & meaningful charts having important insights.\n",
        "\n",
        "\n",
        "[ Hints : - Do the Vizualization in  a structured way while following \"UBM\" Rule.\n",
        "\n",
        "U - Univariate Analysis,\n",
        "\n",
        "B - Bivariate Analysis (Numerical - Categorical, Numerical - Numerical, Categorical - Categorical)\n",
        "\n",
        "M - Multivariate Analysis\n",
        " ]\n",
        "\n",
        "\n",
        "\n"
      ],
      "metadata": {
        "id": "ZrxVaUj-hHfC"
      }
    },
    {
      "cell_type": "markdown",
      "source": [
        "# ***Let's Begin !***"
      ],
      "metadata": {
        "id": "O_i_v8NEhb9l"
      }
    },
    {
      "cell_type": "markdown",
      "source": [
        "## ***1. Know Your Data***"
      ],
      "metadata": {
        "id": "HhfV-JJviCcP"
      }
    },
    {
      "cell_type": "markdown",
      "source": [
        "### Import Libraries"
      ],
      "metadata": {
        "id": "Y3lxredqlCYt"
      }
    },
    {
      "cell_type": "code",
      "source": [
        "# Import Libraries\n",
        "import pandas as pd\n",
        "import numpy as np\n",
        "import matplotlib.pyplot as plt\n",
        "import seaborn as sb"
      ],
      "metadata": {
        "id": "M8Vqi-pPk-HR"
      },
      "execution_count": null,
      "outputs": []
    },
    {
      "cell_type": "markdown",
      "source": [
        "We mainly have four libraries that helps in evaluating this Exploratory Data Analysis Project(EDA)\n",
        "1. PANDAS :- Pandas is a Python library used for working with data sets. It has functions for analyzing, cleaning, exploring, and manipulating data.\n",
        "2. NUMPY :- NumPy is a Python library used for working with arrays. It also has functions for working in domain of linear algebra, fourier transform, and matrices.\n",
        "3. MATPLOTLIB :- Matplotlib is a cross-platform, data visualization and graphical plotting library (histograms, scatter plots, bar charts, etc) for Python and its numerical extension NumPy. As such, it offers a viable open source alternative to MATLAB.18-Apr-2023\n",
        "4. SEABORN :- Seaborn is a library for making statistical graphics in Python. It builds on top of matplotlib and integrates closely with pandas data structures. Seaborn helps you explore and understand your data."
      ],
      "metadata": {
        "id": "7V2uXFed1VNl"
      }
    },
    {
      "cell_type": "markdown",
      "source": [
        "### Dataset Loading"
      ],
      "metadata": {
        "id": "3RnN4peoiCZX"
      }
    },
    {
      "cell_type": "code",
      "source": [
        "from google.colab import drive\n",
        "drive.mount('/content/drive')"
      ],
      "metadata": {
        "id": "T5_nYDED3bMl"
      },
      "execution_count": null,
      "outputs": []
    },
    {
      "cell_type": "markdown",
      "source": [
        "Hear we are importing our google drive to the notebook the very simple step to do this is just go to the files->Mount Drive"
      ],
      "metadata": {
        "id": "QUnWEdgA39Jy"
      }
    },
    {
      "cell_type": "code",
      "source": [
        "# Load Dataset\n",
        "df = pd.read_csv('/content/drive/MyDrive/Projecs at almabetter/Airbnb NYC 2019.csv')"
      ],
      "metadata": {
        "id": "4CkvbW_SlZ_R"
      },
      "execution_count": null,
      "outputs": []
    },
    {
      "cell_type": "markdown",
      "source": [
        "Here we are taking the path from our google drive on which we have already uploaded a dataset that is in the Comma Seperated Values(CSV) format and reads the data into a Pandas DataFrame object using the alias of pandas i.e. pd.\n"
      ],
      "metadata": {
        "id": "QfWKWYw74yyp"
      }
    },
    {
      "cell_type": "markdown",
      "source": [
        "### Dataset First View"
      ],
      "metadata": {
        "id": "x71ZqKXriCWQ"
      }
    },
    {
      "cell_type": "markdown",
      "source": [
        "While starting with a dataset we first look up what all our dataset have so we just use .head() method of our pandas which returns us a specified number of rows, string from the top. The head() method returns the first 5 rows if a number is not specified."
      ],
      "metadata": {
        "id": "As11UUJM5uy7"
      }
    },
    {
      "cell_type": "code",
      "source": [
        "# Dataset First Look\n",
        "df.head(5)"
      ],
      "metadata": {
        "id": "LWNFOSvLl09H"
      },
      "execution_count": null,
      "outputs": []
    },
    {
      "cell_type": "markdown",
      "source": [
        "* The tail() method returns a specified number of last rows. The tail() method returns the last 5 rows if a number is not specified."
      ],
      "metadata": {
        "id": "gCLxkR6iEWdy"
      }
    },
    {
      "cell_type": "code",
      "source": [
        "df.tail()"
      ],
      "metadata": {
        "id": "OC9m3pIcEIWE"
      },
      "execution_count": null,
      "outputs": []
    },
    {
      "cell_type": "markdown",
      "source": [
        "So in this first look of our dataset we visualize that what all our dataset have in it, it is having a detail of Airbnb which is having columns like id, name, etc which all we will see in below analysis, also by looking at first we can say our dataset have some missing values in some of the columns that all we see while proceeding further with the analysis. let's quickly go through"
      ],
      "metadata": {
        "id": "zHLH-RSzFl6c"
      }
    },
    {
      "cell_type": "markdown",
      "source": [
        "### Dataset Rows & Columns count"
      ],
      "metadata": {
        "id": "7hBIi_osiCS2"
      }
    },
    {
      "cell_type": "code",
      "source": [
        "# Dataset Rows & Columns count\n",
        "df.shape"
      ],
      "metadata": {
        "id": "Kllu7SJgmLij"
      },
      "execution_count": null,
      "outputs": []
    },
    {
      "cell_type": "markdown",
      "source": [
        "* The DataFrame. shape attribute in Pandas enables us to obtain the shape of a DataFrame.Here DataFrame has a shape of (48895, 16) , this implies that the DataFrame is made up of 48895 rows and 16 columns of data."
      ],
      "metadata": {
        "id": "X-bjmj52E1bT"
      }
    },
    {
      "cell_type": "markdown",
      "source": [
        "### Dataset Information"
      ],
      "metadata": {
        "id": "JlHwYmJAmNHm"
      }
    },
    {
      "cell_type": "markdown",
      "source": [
        "For Dataset Information we have a function in our pandas dataframe .info() that allows us to learn the shape of object types of our data. .info() will give a clear and a concise picture of our dataset that includes rangeindex, Data columns, Datatype, Non-Null count, etc. RangeIndex is a memory-saving special case of an Index limited to representing monotonic ranges with a 64-bit dtype. Using RangeIndex may in some instances improve computing speed. This is the default index type used by DataFrame and Series when no explicit index is provided by the user. Data columns will gave the count of columns we have. Non-Null Count will gave us that the particular column have how many non null values. at the last .info() provides us the datatype of the particular column for all the columns we have in our dataframe."
      ],
      "metadata": {
        "id": "UrRjSku1HaUa"
      }
    },
    {
      "cell_type": "code",
      "source": [
        "# Dataset Info\n",
        "df.info()"
      ],
      "metadata": {
        "id": "e9hRXRi6meOf"
      },
      "execution_count": null,
      "outputs": []
    },
    {
      "cell_type": "markdown",
      "source": [
        "As we can see in the output, the summary includes list of all columns with their data types and the number of non-null values in each column. By simply looking at our dataset we can say that we have three columns which are having a datatype of float64, seven columns which are having a datatype of int64 and six columns which are having a datatype object. let's describe these datatypes as well\n",
        "![image.png](data:image/png;base64,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)"
      ],
      "metadata": {
        "id": "yJOwVP7PIh43"
      }
    },
    {
      "cell_type": "markdown",
      "source": [
        "#### Duplicate Values"
      ],
      "metadata": {
        "id": "35m5QtbWiB9F"
      }
    },
    {
      "cell_type": "markdown",
      "source": [
        "You can count duplicates in pandas DataFrame by using DataFrame. pivot_table() function. This function counts the number of duplicate entries in a single column, multiple columns, and count duplicates when having NaN values in the DataFrame.\n",
        "\n",
        "The duplicated() method returns a Series with True and False values that describe which rows in the DataFrame are duplicated and not. Use the subset parameter to specify if any columns should not be considered when looking for duplicates.The number of True can be counted with sum() method. If you want to count the number of False (= the number of non-duplicate rows), you can invert it with negation ~ and then count True with sum() .\n",
        "\n"
      ],
      "metadata": {
        "id": "Ja-zjXIJbdYs"
      }
    },
    {
      "cell_type": "code",
      "source": [
        "# Dataset Duplicate Value Count\n",
        "dup1 = df.duplicated(subset=['room_type']).sum()\n",
        "dup1"
      ],
      "metadata": {
        "id": "1sLdpKYkmox0"
      },
      "execution_count": null,
      "outputs": []
    },
    {
      "cell_type": "code",
      "source": [
        "df3 = df.pivot_table(index = ['room_type'], aggfunc ='size')\n",
        "df3"
      ],
      "metadata": {
        "id": "vjr6r2rpaouy"
      },
      "execution_count": null,
      "outputs": []
    },
    {
      "cell_type": "code",
      "source": [
        "df2 = df.pivot_table(index = ['neighbourhood_group'], aggfunc ='size')\n",
        "df2"
      ],
      "metadata": {
        "id": "zQ7bpos3aLlz"
      },
      "execution_count": null,
      "outputs": []
    },
    {
      "cell_type": "code",
      "source": [
        "df4 = df.pivot_table(index = ['minimum_nights', 'availability_365'], aggfunc ='size')\n",
        "df4"
      ],
      "metadata": {
        "id": "-lMNvcoJa70R"
      },
      "execution_count": null,
      "outputs": []
    },
    {
      "cell_type": "markdown",
      "source": [
        "So here in this piece of code we are using both fucntion that we have for duplicates values count. let's discuss what we have in room type column so in room type we have only three categories i.e. Entire home/apt, Private room, shared room so rest we have duplicates of these thus for Entire home/apt we have 25409 duplicates value, for private rooms we have 22326 duplicate values and for shared room we have 1160 duplicates entry like wise we can check for rest of columns as well that i have shown above."
      ],
      "metadata": {
        "id": "x-tLUZYacLUC"
      }
    },
    {
      "cell_type": "markdown",
      "source": [
        "#### Missing Values/Null Values"
      ],
      "metadata": {
        "id": "PoPl-ycgm1ru"
      }
    },
    {
      "cell_type": "markdown",
      "source": [
        "For the very first look of missing or null values we use .isnull() function along with .sum() in pandas to know the count of null values from all the columns we have in our database."
      ],
      "metadata": {
        "id": "Ls6_Fepe2kmT"
      }
    },
    {
      "cell_type": "code",
      "source": [
        "# Missing Values/Null Values Count\n",
        "df.isnull().sum()"
      ],
      "metadata": {
        "id": "GgHWkxvamxVg"
      },
      "execution_count": null,
      "outputs": []
    },
    {
      "cell_type": "markdown",
      "source": [
        "Thus on looking at this function we could say that we have only 4 columns that have a null values that are name, host_name, last_revies and reviews_per_month.\n",
        "In our case, missing data that is observed does not need too much special treatment. Looking into the nature of our dataset we can state further things: columns \"name\" and \"host_name\" are irrelevant and insignificant to our data analysis, columns \"last_review\" and \"review_per_month\" need very simple handling. To elaborate, \"last_review\" is date; if there were no reviews for the listing - date simply will not exist. In our case, this column is irrelevant and insignificant therefore appending those values is not needed. For \"review_per_month\" column we can simply append it with 0.0 for missing values; we can see that in \"number_of_review\" that column will have a 0, therefore following this logic with 0 total reviews there will be 0.0 rate of reviews per month. Therefore, let's proceed with removing columns that are not important and handling of missing data."
      ],
      "metadata": {
        "id": "PL2N5sKI4P6X"
      }
    },
    {
      "cell_type": "markdown",
      "source": [
        "* dropping columns that are not significant or could be unethical to use for our future data exploration and predictions"
      ],
      "metadata": {
        "id": "jWYm3Gd_5THC"
      }
    },
    {
      "cell_type": "code",
      "source": [
        "# Visualizing the missing values\n",
        "df.drop(['id','host_name','last_review'], axis=1, inplace=True)\n",
        "df.fillna({'reviews_per_month':0}, inplace=True)\n",
        "df.isnull().sum()\n"
      ],
      "metadata": {
        "id": "3q5wnI3om9sJ"
      },
      "execution_count": null,
      "outputs": []
    },
    {
      "cell_type": "markdown",
      "source": [
        "In this tutorial, you’ll learn how to use panda’s DataFrame dropna() function.\n",
        "\n",
        "NA values are “Not Available”. This can apply to Null, None, pandas.NaT, or numpy.nan. Using dropna() will drop the rows and columns with these values. This can be beneficial to provide you with only valid data.\n",
        "\n",
        "By default, this function returns a new DataFrame and the source DataFrame remains unchanged.\n",
        "\n",
        "dropna() takes the following parameters:\n",
        "\n",
        " **Basic Syntax**\n",
        "\n",
        "**dropna(self, axis=0, how=\"any\", thresh=None, subset=None, inplace=False)**\n",
        "\n",
        "* axis: {0 (or 'index'), 1 (or 'columns')}, default 0\n",
        "* If 0, drop rows with missing values.\n",
        "* If 1, drop columns with missing values.\n",
        "* how: {'any', 'all'}, default 'any'\n",
        "* If 'any', drop the row or column if any of the values is NA.\n",
        "* If 'all', drop the row or column if all of the values are NA.\n",
        "* thresh: (optional) an int value to specify the threshold for the drop operation.\n",
        "* subset: (optional) column label or sequence of labels to specify rows or columns.\n",
        "* inplace: (optional) a bool value.\n",
        "* If True, the source DataFrame is changed and None is returned.\n",
        "\n",
        "Please note that we are dropping 'host_name' not only because it is insignificant but also for ethical reasons. There should be no reasoning to continue data exploration and model training (which we will be doing later) towards specific individuals based on their names. Why is that? Those names are assigned to actual humans, also they present no security threat or military/governmental interest based on the nature of the dataset, therefore names are unimportant to us."
      ],
      "metadata": {
        "id": "UjF6GJIF7WIP"
      }
    },
    {
      "cell_type": "markdown",
      "source": [
        "### What did you know about your dataset?"
      ],
      "metadata": {
        "id": "H0kj-8xxnORC"
      }
    },
    {
      "cell_type": "markdown",
      "source": [
        "Till now we have checked that what are the shape of our dataset, which all are the duplictes values we have in our dataset, how many null values we have in  our dataset and after looking on all of these we have find that we have 48895 Rows and 16 Columns in our dataset in which we have 4 columns that cpontains null values. Now let's further look up our dataset :-\n",
        "\n",
        " We will skip first column for now and begin from host_id. let's see what hosts (IDs) have the most listings on Airbnb platform and taking advantage of this service."
      ],
      "metadata": {
        "id": "96ORR_bP_zhn"
      }
    },
    {
      "cell_type": "code",
      "source": [
        "df.host_id.value_counts().head()"
      ],
      "metadata": {
        "id": "_tKFrUco-TMd"
      },
      "execution_count": null,
      "outputs": []
    },
    {
      "cell_type": "markdown",
      "source": [
        "With this analysis we find that we have 327 count who is having a host_id of 219517861 i.e. highest amoung the all followed by 107434423 with a value count 232 and so on."
      ],
      "metadata": {
        "id": "gfoNAAC-nUe_"
      }
    },
    {
      "cell_type": "code",
      "source": [
        "df.minimum_nights.value_counts().head()"
      ],
      "metadata": {
        "id": "G4-N9TQ53YVO"
      },
      "execution_count": null,
      "outputs": []
    },
    {
      "cell_type": "markdown",
      "source": [
        "With this analysis we find that we have 12720 count who is having a minimum nights stay of 1 i.e. highest amoung the all followed by 11696 i.e. for 2 night stay and we listed the top five for the data frame."
      ],
      "metadata": {
        "id": "tyd_IGh_5RdF"
      }
    },
    {
      "cell_type": "code",
      "source": [
        "data = df.groupby('neighbourhood_group')['price'].sum()\n",
        "data"
      ],
      "metadata": {
        "id": "jBDXYqaPykfB"
      },
      "execution_count": null,
      "outputs": []
    },
    {
      "cell_type": "markdown",
      "source": [
        "Here in this analaysis we are using a groupby function of pandas, Groupby is a pretty simple concept. We can create a grouping of categories and apply a function to the categories. It’s a simple concept but it’s an extremely valuable technique that’s widely used in data science. In real data science projects, you’ll be dealing with large amounts of data and trying things over and over, so for efficiency, we use Groupby concept. Groupby concept is really important because it’s ability to aggregate data efficiently, both in performance and the amount code is magnificent. Groupby mainly refers to a process involving one or more of the following steps they are:\n",
        "\n",
        "* **Splitting** : It is a process in which we split data into group by applying some conditions on datasets.\n",
        "* **Applying** : It is a process in which we apply a function to each group independently\n",
        "* **Combining** : It is a process in which we combine different datasets after applying groupby and results into a data structure\n",
        "\n",
        "In this piece of code we applied a groupby on neighbourhood_group along with a sum function on price so what does this piece of code doing. It is first grouped our data based on neighbourhood group in which we found five groups named Bronx, Brooklyn, Manhattan, Queens and Staten Island and then we apply a sum fuction on this grouped data thus we find that for Bronx we have a total price of 95459 and so on as shown in above code analysis."
      ],
      "metadata": {
        "id": "O3vPXbQb58LN"
      }
    },
    {
      "cell_type": "markdown",
      "source": [
        "## ***2. Understanding Your Variables***"
      ],
      "metadata": {
        "id": "nA9Y7ga8ng1Z"
      }
    },
    {
      "cell_type": "markdown",
      "source": [
        "Now let us understand what all Variables we have for this data set for the better understanding of all Variables let's start"
      ],
      "metadata": {
        "id": "JB3cN8_D8uC6"
      }
    },
    {
      "cell_type": "code",
      "source": [
        "# Dataset Columns\n",
        "df.columns"
      ],
      "metadata": {
        "id": "j7xfkqrt5Ag5"
      },
      "execution_count": null,
      "outputs": []
    },
    {
      "cell_type": "markdown",
      "source": [
        "Firstly we use .columns function of pandas which gave us that what all columns we have in our data set"
      ],
      "metadata": {
        "id": "LMYN_PW79K5w"
      }
    },
    {
      "cell_type": "code",
      "source": [
        "# Dataset Describe\n",
        "df.describe()"
      ],
      "metadata": {
        "id": "DnOaZdaE5Q5t"
      },
      "execution_count": null,
      "outputs": []
    },
    {
      "cell_type": "markdown",
      "source": [
        "The describe() method returns description of the data in the DataFrame.\n",
        "\n",
        "If the DataFrame contains numerical data, the description contains these information for each column:\n",
        "\n",
        "* count - The number of not-empty values.\n",
        "* mean - The average (mean) value.\n",
        "* std - The standard deviation.\n",
        "* min - the minimum value.\n",
        "* 25% - The 25% percentile*.\n",
        "* 50% - The 50% percentile*.\n",
        "* 75% - The 75% percentile*.\n",
        "* max - the maximum value.\n",
        "\n",
        "Percentile meaning: how many of the values are less than the given percentile. Read more about percentiles in our Machine Learning Percentile chapter."
      ],
      "metadata": {
        "id": "2z7u9CCG-G5y"
      }
    },
    {
      "cell_type": "markdown",
      "source": [
        "### Variables Description"
      ],
      "metadata": {
        "id": "PBTbrJXOngz2"
      }
    },
    {
      "cell_type": "markdown",
      "source": [
        "\n",
        "![image.png](data:image/png;base64,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)"
      ],
      "metadata": {
        "id": "aJV4KIxSnxay"
      }
    },
    {
      "cell_type": "markdown",
      "source": [
        "### Check Unique Values for each variable."
      ],
      "metadata": {
        "id": "u3PMJOP6ngxN"
      }
    },
    {
      "cell_type": "code",
      "source": [
        "# Check Unique Values for each variable.\n",
        "df['neighbourhood_group'].unique()"
      ],
      "metadata": {
        "id": "zms12Yq5n-jE"
      },
      "execution_count": null,
      "outputs": []
    },
    {
      "cell_type": "code",
      "source": [
        "df.room_type.unique()"
      ],
      "metadata": {
        "id": "7owOafl-ZCRP"
      },
      "execution_count": null,
      "outputs": []
    },
    {
      "cell_type": "markdown",
      "source": [
        "By Looking at our dataframe we can say we have only two columns that may have duplicates entries or which considered much i.e. neighbourhood_group and room_type. Now, by looking on these fuction we can say we only have 5 types of neighbourhood_group i.e. Brooklyn, Manhattan, Queens, Staten Island and Bronx. And in our dataset we have only three categroies in room_type i.e. Private room, Entire home/apt, Shared room.\n",
        "\n",
        "* The unique function in pandas is used to find the unique values from a series. A series is a single column of a data frame. We can use the unique function on any possible set of elements in Python."
      ],
      "metadata": {
        "id": "6F9xrebfZD8s"
      }
    },
    {
      "cell_type": "markdown",
      "source": [
        "## 3. ***Data Wrangling***"
      ],
      "metadata": {
        "id": "dauF4eBmngu3"
      }
    },
    {
      "cell_type": "markdown",
      "source": [
        "### Data Wrangling Code"
      ],
      "metadata": {
        "id": "bKJF3rekwFvQ"
      }
    },
    {
      "cell_type": "markdown",
      "source": [
        "Data wrangling, also known as data munging or data cleaning, is the process of transforming and cleaning messy data into a format that's suitable for analysis.\n",
        "\n",
        "**There are two central concepts which you should know about:**\n",
        "* **Series**: A series is essentially a column\n",
        "* **Data Frame**: A DataFrame is a two-dimensional data structure, i.e., data is aligned in a tabular fashion in rows and columns. Pandas DataFrame consists of three principal components, the data, rows, and columns.\n",
        "\n",
        "**Basic Inspection of a dataframe that are a part of data wrangling that we have already discussed above is:**\n",
        "1. head(n):- Prints the first n rows of the dataframe. By default it prints the first 5 rows.\n",
        "2. tail(n):- Prints the last n rows of the dataframe. By default it prints the last 5 rows.\n",
        "3. columns:- Prints the list of columns in a dataframe.\n",
        "4. info():- Prints the basic information about our dataframe.\n",
        "5. rename():- Rename the columns of the dataframe.\n",
        "6. describe():- The describe method in Pandas is like having a personal statistician for your dataset! It provides a summary of the most important information, including the count, mean, standard deviation, minimum, maximum, and percentiles. All this without having to do any math yourself! Plus, it automatically excludes any NaN values so you don't have to worry about them. This makes it a great tool for getting a quick and comprehensive overview of your data's distribution, spotting any outliers or patterns, and making informed decisions.\n",
        "7. sort_values():- Sorts values in either an ascending or descending order.\n",
        "\n",
        "Till now we have not taken into concentration sort_values let's look upon this function:-"
      ],
      "metadata": {
        "id": "eRx65lP3qXUD"
      }
    },
    {
      "cell_type": "code",
      "source": [
        "# Write your code to make your dataset analysis ready.\n",
        "most_reviews = df.sort_values('number_of_reviews', ascending=False).head(5)\n",
        "most_reviews"
      ],
      "metadata": {
        "id": "wk-9a2fpoLcV"
      },
      "execution_count": null,
      "outputs": []
    },
    {
      "cell_type": "code",
      "source": [
        "availability = df.sort_values('availability_365', ascending=False).head(5)\n",
        "availability"
      ],
      "metadata": {
        "id": "7UW-xOZRwhPe"
      },
      "execution_count": null,
      "outputs": []
    },
    {
      "cell_type": "code",
      "source": [
        "Price = df.sort_values('price', ascending=False).head(5)\n",
        "Price"
      ],
      "metadata": {
        "id": "NcZaZ86Lw375"
      },
      "execution_count": null,
      "outputs": []
    },
    {
      "cell_type": "markdown",
      "source": [
        "### **Question** Where most of the host focused tpo own propriety."
      ],
      "metadata": {
        "id": "yPunqgKFZx6s"
      }
    },
    {
      "cell_type": "code",
      "source": [
        "number_of_host_per_loc = df.groupby('neighbourhood_group')['host_id'].count()\n",
        "number_of_host_per_loc"
      ],
      "metadata": {
        "id": "20UHdC5mY5mB"
      },
      "execution_count": null,
      "outputs": []
    },
    {
      "cell_type": "markdown",
      "source": [
        "Manhatten is the most focused place for the host to do their business."
      ],
      "metadata": {
        "id": "XI9N7YGkZYd8"
      }
    },
    {
      "cell_type": "markdown",
      "source": [
        "### What all manipulations have you done and insights you found?"
      ],
      "metadata": {
        "id": "MSa1f5Uengrz"
      }
    },
    {
      "cell_type": "markdown",
      "source": [
        "If we talk about manipulation that we have done, so in this data set we have done manipulation on shape, columns,info, minium nights count, duplicates, Null Values,unique values,etc. where we found that we have 48895 Rows and 16 COlumns in our dataset, in the info function we have checked about all the datatypes we have u=in our columns of dataset that we found perfect, next we saw minimum nights values count where we found that most of the stays allow for 1 day, then we count some duplicate, null values and uniwue values that we have discussed above.\n",
        "\n",
        "Apart from the Basic inspection on a dataframe that we have discussed above we have made some more inspection here and we found that a private room from the Queens neighbourhood group named Room near JFK Queen Bed is review mostly i.e. 629 time and if we look up into the availabilty option it is availabe for 333 days out of 365 days, rather we have some stays that are available for 365 days that we have shown in our second concideration.In our third concideration we have seen that the highest price amoung the all is 10000 followed by 9999."
      ],
      "metadata": {
        "id": "LbyXE7I1olp8"
      }
    },
    {
      "cell_type": "markdown",
      "source": [
        "## ***4. Data Vizualization, Storytelling & Experimenting with charts : Understand the relationships between variables***"
      ],
      "metadata": {
        "id": "GF8Ens_Soomf"
      }
    },
    {
      "cell_type": "markdown",
      "source": [
        "Before going to visualization let us understand some widely used terminologies of visualization\n",
        "* The figure() function in pyplot module of matplotlib library is used to create a new figure.\n",
        "* The figsize() attribute can be used when you want to change the default size of a specific plot.\n",
        "* The title() method in matplotlib module is used to specify title of the visualization depicted and displays the title using various attributes.\n",
        "* The xlabel() function in pyplot module of matplotlib library is used to set the label for the x-axis.\n",
        "* The ylabel() function in pyplot module of matplotlib library is used to set the label for the y-axis.\n",
        "* The xlim() function in pyplot module of matplotlib library is used to get or set the x-limits of the current axes.\n",
        "* The ylim() is a function in the Pyplot module of the Matplotlib library which is used to get or set the y-limits of the current axes."
      ],
      "metadata": {
        "id": "Qt9qgipUd74a"
      }
    },
    {
      "cell_type": "markdown",
      "source": [
        "#### Chart - 1"
      ],
      "metadata": {
        "id": "0wOQAZs5pc--"
      }
    },
    {
      "cell_type": "code",
      "source": [
        "# Chart - 1 visualization code\n",
        "plt.figure(figsize=(13,7))\n",
        "plt.title(\"Neighbourhood Group\")\n",
        "g = plt.pie(df.neighbourhood_group.value_counts(), labels=df.neighbourhood_group.value_counts().index,autopct='%1.1f%%', startangle=180)\n",
        "plt.show()"
      ],
      "metadata": {
        "id": "7v_ESjsspbW7"
      },
      "execution_count": null,
      "outputs": []
    },
    {
      "cell_type": "markdown",
      "source": [
        "##### 1. Why did you pick the specific chart?"
      ],
      "metadata": {
        "id": "K5QZ13OEpz2H"
      }
    },
    {
      "cell_type": "markdown",
      "source": [
        "A pie chart helps organize and show data as a percentage of a whole. True to the name, this kind of visualization uses a circle to represent the whole, and slices of that circle, or “pie”, to represent the specific categories that compose the whole.Here in this analysis of Neighbour hood group we want to know that how much percent of each group occupy that's why we have choosen pie chart."
      ],
      "metadata": {
        "id": "XESiWehPqBRc"
      }
    },
    {
      "cell_type": "markdown",
      "source": [
        "##### 2. What is/are the insight(s) found from the chart?"
      ],
      "metadata": {
        "id": "lQ7QKXXCp7Bj"
      }
    },
    {
      "cell_type": "markdown",
      "source": [
        "While Looking at a chart we found that the highest amoung the all is occupied by Manhattan i.e. 44.3% followed by Brooklyn i.e. 41.1%, rest other occupied only a small portion i.e. 11.6% in Queens, 2.2% in Bronx and 0.8% in Staten Island."
      ],
      "metadata": {
        "id": "C_j1G7yiqdRP"
      }
    },
    {
      "cell_type": "markdown",
      "source": [
        "##### 3. Will the gained insights help creating a positive business impact?\n",
        "Are there any insights that lead to negative growth? Justify with specific reason."
      ],
      "metadata": {
        "id": "448CDAPjqfQr"
      }
    },
    {
      "cell_type": "markdown",
      "source": [
        "If we talk about the business Perspective we must say that most positive business if from two neighbourhood groups that are Manhatten and Brooklyn that has the most impactfull stays amoung the others."
      ],
      "metadata": {
        "id": "3cspy4FjqxJW"
      }
    },
    {
      "cell_type": "markdown",
      "source": [
        "#### Chart - 2"
      ],
      "metadata": {
        "id": "KSlN3yHqYklG"
      }
    },
    {
      "cell_type": "code",
      "source": [
        "# Chart - 2 visualization code\n",
        "plt.scatter(df['neighbourhood_group'], df['number_of_reviews'])\n",
        "plt.xlabel('Neighbourhood Groups')\n",
        "plt.ylabel('Number of reviews')\n",
        "plt.title('Neighbourhood Groups vs. Number of reviews')\n",
        "plt.show()"
      ],
      "metadata": {
        "id": "R4YgtaqtYklH"
      },
      "execution_count": null,
      "outputs": []
    },
    {
      "cell_type": "markdown",
      "source": [
        "##### 1. Why did you pick the specific chart?"
      ],
      "metadata": {
        "id": "t6dVpIINYklI"
      }
    },
    {
      "cell_type": "markdown",
      "source": [
        "The plt.scatter() function generates a scatter plot by taking in two arrays of data, one for each axis of the plot. Here , the x-axis represents Neighbourhood group and the y-axis represents Number of reviews. Each data point is plotted as a point on the graph, with the x and y values determining its position. We are using Scatter plot to visualize the to relationships between variables."
      ],
      "metadata": {
        "id": "5aaW0BYyYklI"
      }
    },
    {
      "cell_type": "markdown",
      "source": [
        "##### 2. What is/are the insight(s) found from the chart?"
      ],
      "metadata": {
        "id": "ijmpgYnKYklI"
      }
    },
    {
      "cell_type": "markdown",
      "source": [
        "Here in this visualization we found that Manhatten and Queens are the neighbourhood groups that are having quiet high reviews thats around 500 for both so we can say that when someone will look upon this analysis we can say they preffer the most from these as now days people look upon the best and that can only be defined by top reviews.\n",
        "on the other hand staten Island and Bronx have the least review amoung all.\n"
      ],
      "metadata": {
        "id": "PSx9atu2YklI"
      }
    },
    {
      "cell_type": "markdown",
      "source": [
        "##### 3. Will the gained insights help creating a positive business impact?\n",
        "Are there any insights that lead to negative growth? Justify with specific reason."
      ],
      "metadata": {
        "id": "-JiQyfWJYklI"
      }
    },
    {
      "cell_type": "markdown",
      "source": [
        "Yes, as gone through the visualization we have found the relationship between neighbourhood group and reviews there we saw a strong positive relationship for Manhetten and Queens so the people like the most of the stays from these two neighbourhood groups."
      ],
      "metadata": {
        "id": "BcBbebzrYklV"
      }
    },
    {
      "cell_type": "markdown",
      "source": [
        "#### Chart - 3"
      ],
      "metadata": {
        "id": "EM7whBJCYoAo"
      }
    },
    {
      "cell_type": "code",
      "source": [
        "# Chart - 3 visualization code\n",
        "#plt.figure(figsize=(13,7))\n",
        "plt.title(\"Neighbourhood Group vs. Availability Room\")\n",
        "sb.boxplot(data=df, x='neighbourhood_group',y='availability_365',palette=\"dark\")\n",
        "plt.show()"
      ],
      "metadata": {
        "id": "t6GMdE67YoAp"
      },
      "execution_count": null,
      "outputs": []
    },
    {
      "cell_type": "markdown",
      "source": [
        "##### 1. Why did you pick the specific chart?"
      ],
      "metadata": {
        "id": "fge-S5ZAYoAp"
      }
    },
    {
      "cell_type": "markdown",
      "source": [
        "Pandas DataFrame boxplot() function is used to make a box plot from the given DataFrame columns. Boxplot is also called a Whisker plot that helps us better understand by providing the range of values in your data set and identifying any outliers in a format that's easier to understand than the raw data.\n",
        "Boxplots help you better understand the range of values in your data set and identify any outliers in a format that's easier to understand than the raw data.Here in this analysis we need to check the range of availabilty amoung the different neighbourhood groups thus we use Box Plot here."
      ],
      "metadata": {
        "id": "5dBItgRVYoAp"
      }
    },
    {
      "cell_type": "markdown",
      "source": [
        "##### 2. What is/are the insight(s) found from the chart?"
      ],
      "metadata": {
        "id": "85gYPyotYoAp"
      }
    },
    {
      "cell_type": "markdown",
      "source": [
        "From the boxplot above, we can definitely observe a couple of things about the distribution of prices for Airbnb in NYC.\n",
        "\n",
        "1. We can state that Staten Island has the highest range of availabilty for the listings with about 225 count as an average, followed by Bronx with 150 Counts\n",
        "2. Brooklyn and Manhattan seem to have a very similar distribution,\n",
        "3. Queens is somewhat between these two"
      ],
      "metadata": {
        "id": "4jstXR6OYoAp"
      }
    },
    {
      "cell_type": "markdown",
      "source": [
        "##### 3. Will the gained insights help creating a positive business impact?\n",
        "Are there any insights that lead to negative growth? Justify with specific reason."
      ],
      "metadata": {
        "id": "RoGjAbkUYoAp"
      }
    },
    {
      "cell_type": "markdown",
      "source": [
        "If we talk about the insight gained here, we found that we are having a least availability in the most demanding neighbourhood groups i.e. Manhatten and Brooklyn that have a postive business but at same time may have negativity as this are the top demanding but availity mattera thus if a person wishes to stay in these groups may have to wait or go for others."
      ],
      "metadata": {
        "id": "zfJ8IqMcYoAp"
      }
    },
    {
      "cell_type": "markdown",
      "source": [
        "#### Chart - 4"
      ],
      "metadata": {
        "id": "4Of9eVA-YrdM"
      }
    },
    {
      "cell_type": "code",
      "source": [
        "# Chart - 4 visualization code\n",
        "chart_4 =df.loc[df['neighbourhood'].isin(['Williamsburg','Bedford-Stuyvesant','Harlem','Bushwick',\n",
        "                 'Upper West Side','Hell\\'s Kitchen','East Village','Upper East Side','Crown Heights','Midtown'])]\n",
        "viz_3 =sb.catplot(x='neighbourhood', hue='neighbourhood_group', col='room_type', data=chart_4, kind='count')\n",
        "viz_3.set_xticklabels(rotation=90)"
      ],
      "metadata": {
        "id": "irlUoxc8YrdO"
      },
      "execution_count": null,
      "outputs": []
    },
    {
      "cell_type": "markdown",
      "source": [
        "##### 1. Why did you pick the specific chart?"
      ],
      "metadata": {
        "id": "iky9q4vBYrdO"
      }
    },
    {
      "cell_type": "markdown",
      "source": [
        "catplot() method is used to plot categorical plots. With the use of one of many visual representations, this function gives users access to a number of axes-level functions that illustrate the connection between numerical data and one or more category variables.Here we need to analyse categorical data thats why we choosen for the Catplot."
      ],
      "metadata": {
        "id": "aJRCwT6DYrdO"
      }
    },
    {
      "cell_type": "markdown",
      "source": [
        "##### 2. What is/are the insight(s) found from the chart?"
      ],
      "metadata": {
        "id": "F6T5p64dYrdO"
      }
    },
    {
      "cell_type": "markdown",
      "source": [
        "Here in this analysis we apply count on room type for different neighbourood of the neighbourhood group Manhatten and Broklyn and insight we found that Entire home/apt and private rooms have a count of towers for different neighbourhood while we observe a very few neighbourhood counts on shared rooms. It means that te most of te people like to stay on Entire home/apt and private rooms. In this analysis we observe that there is a similar distribution of count for Manhatten on neighbourhood for Entire Home/apt rather it has some hick for Brooklyn. Also the neighbourhood with private rooms have the highest count amoung the all."
      ],
      "metadata": {
        "id": "Xx8WAJvtYrdO"
      }
    },
    {
      "cell_type": "markdown",
      "source": [
        "##### 3. Will the gained insights help creating a positive business impact?\n",
        "Are there any insights that lead to negative growth? Justify with specific reason."
      ],
      "metadata": {
        "id": "y-Ehk30pYrdP"
      }
    },
    {
      "cell_type": "markdown",
      "source": [
        "Neighbourhood with private rooms crate a positive picture as it has a highest count amoung the all on the other hand shared rooms is not much considered amoung the group and thus creating a negative impact with respect to the growth."
      ],
      "metadata": {
        "id": "jLNxxz7MYrdP"
      }
    },
    {
      "cell_type": "markdown",
      "source": [
        "#### Chart - 5 - Correlation Heatmap"
      ],
      "metadata": {
        "id": "NC_X3p0fY2L0"
      }
    },
    {
      "cell_type": "code",
      "source": [
        "# Correlation Heatmap visualization code\n",
        "corr = df.corr(method='kendall')\n",
        "plt.figure(figsize=(13,10))\n",
        "plt.title(\"Correlation Between Different Variables\\n\")\n",
        "sb.heatmap(corr, annot=True)\n",
        "plt.show()"
      ],
      "metadata": {
        "id": "xyC9zolEZNRQ"
      },
      "execution_count": null,
      "outputs": []
    },
    {
      "cell_type": "markdown",
      "source": [
        "##### 1. Why did you pick the specific chart?"
      ],
      "metadata": {
        "id": "UV0SzAkaZNRQ"
      }
    },
    {
      "cell_type": "markdown",
      "source": [
        "Heatmaps visualize the data in a 2-dimensional format in the form of colored maps. The color maps use hue, saturation, or luminance to achieve color variation to display various details. This color variation gives visual cues to the readers about the magnitude of numeric values. HeatMaps is about replacing numbers with colors because the human brain understands visuals better than numbers, text, or any written data. Human beings are visual learners; therefore, visualizing the data in any form makes more sense. Heatmaps represent data in an easy-to-understand manner. Thus visualizing methods like HeatMaps have become popular.\n",
        "* hue : (optional) This parameter take column name for colour encoding.\n",
        "* data : (optional) This parameter take DataFrame, array, or list of arrays, Dataset for plotting. If x and y are absent, this is interpreted as wide-form."
      ],
      "metadata": {
        "id": "DVPuT8LYZNRQ"
      }
    },
    {
      "cell_type": "markdown",
      "source": [
        "##### 2. What is/are the insight(s) found from the chart?"
      ],
      "metadata": {
        "id": "YPEH6qLeZNRQ"
      }
    },
    {
      "cell_type": "markdown",
      "source": [
        "There’s correlation among host_id to reveiws_per_month & availability_365 (sequential color bar is used between value and color). Also there’s noticiable correlation between min_nights, no_of_listings_count & availability_365. Price also shows some correlation with availability_365 & host_listings_count.\n",
        "\n",
        "no_of_reviews and reviews_per_month gives almost the same information. so we can carry out analysis with any of the two variable. Also, no_of_reviews is correlated to availability_365!"
      ],
      "metadata": {
        "id": "bfSqtnDqZNRR"
      }
    },
    {
      "cell_type": "markdown",
      "source": [
        "## **5. Solution to Business Objective**"
      ],
      "metadata": {
        "id": "JcMwzZxoAimU"
      }
    },
    {
      "cell_type": "markdown",
      "source": [
        "#### What do you suggest the client to achieve Business Objective ?\n",
        "Explain Briefly."
      ],
      "metadata": {
        "id": "8G2x9gOozGDZ"
      }
    },
    {
      "cell_type": "markdown",
      "source": [
        "First of all I need to say that to acheive any business object we must need to have a great analysing skill as that help anyone to observe what is the problem, after analysing the problem the next step is to how smartly we are accessing them and deal with them. Basically I need to say that analysing, accessing and dealing with the situation will creat a possitive Business impact. Now we talk about this whole analysis we can say that Manhatten and Broklyn is the neighbourhood that are much considered amoung the others so their needs to see on others group as well with creating some offers and extra previllages it may have some boost on others as well. Also I need to say that Business Object is something thats fully depend on service as people now days considering service that they receive rather considering price they consider it most."
      ],
      "metadata": {
        "id": "pASKb0qOza21"
      }
    },
    {
      "cell_type": "markdown",
      "source": [
        "# **Conclusion**"
      ],
      "metadata": {
        "id": "gCX9965dhzqZ"
      }
    },
    {
      "cell_type": "markdown",
      "source": [
        "This Airbnb ('AB_NYC_2019') dataset for the 2019 year appeared to be a very rich dataset with a variety of columns that allowed us to do deep data exploration on each significant column presented. First, we have found hosts that take good advantage of the Airbnb platform and provide the most listings; we found that our top host has 327 listings. After that, we proceeded with analyzing boroughs and neighborhood listing densities and what areas were more popular than another. Next, we put good use of our latitude and longitude columns and used to create a geographical heatmap color-coded by the price of listings. Further, we came back to the first column with name strings and had to do a bit more coding to parse each title and analyze existing trends on how listings are named as well as what was the count for the most used words by hosts. Lastly, we found the most reviewed listings and analyzed some additional attributes. For our data exploration purposes, it also would be nice to have couple additional features, such as positive and negative numeric (0-5 stars) reviews or 0-5 star average review for each listing; addition of these features would help to determine the best-reviewed hosts for NYC along with 'number_of_review' column that is provided. Overall, we discovered a very good number of interesting relationships between features and explained each step of the process. This data analytics is very much mimicked on a higher level on Airbnb Data/Machine Learning team for better business decisions, control over the platform, marketing initiatives, implementation of new features and much more. Therefore, I hope this kernel helps everyone!"
      ],
      "metadata": {
        "id": "Fjb1IsQkh3yE"
      }
    },
    {
      "cell_type": "markdown",
      "source": [
        "### ***Hurrah! You have successfully completed your EDA Capstone Project !!!***"
      ],
      "metadata": {
        "id": "gIfDvo9L0UH2"
      }
    }
  ]
}